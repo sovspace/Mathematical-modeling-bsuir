{
 "cells": [
  {
   "cell_type": "code",
   "execution_count": 30,
   "id": "under-birmingham",
   "metadata": {},
   "outputs": [],
   "source": [
    "import typing as tp\n",
    "\n",
    "import numpy as np\n",
    "import scipy.stats as sta\n",
    "\n",
    "import matplotlib.pyplot as plt\n",
    "import seaborn as sns\n",
    "\n",
    "from collections import Counter"
   ]
  },
  {
   "cell_type": "code",
   "execution_count": 5,
   "id": "2b7cfb17-e686-4bc5-8701-460d26651c45",
   "metadata": {},
   "outputs": [],
   "source": [
    "sns.set_style('darkgrid') \n",
    "plt.rc('axes', titlesize=18)    \n",
    "plt.rc('axes', labelsize=14)    \n",
    "plt.rc('xtick', labelsize=13)   \n",
    "plt.rc('ytick', labelsize=13)    \n",
    "plt.rc('legend', fontsize=13)    \n",
    "plt.rc('font', size=13)         "
   ]
  },
  {
   "cell_type": "markdown",
   "id": "neural-casting",
   "metadata": {},
   "source": [
    "# Discrete two-dimensional random variable generator"
   ]
  },
  {
   "cell_type": "code",
   "execution_count": 31,
   "id": "unsigned-composition",
   "metadata": {},
   "outputs": [],
   "source": [
    "class Discrete2DRvGenerator:\n",
    "    def __init__(self, probability_matrix: np.array, first_rv_values: np.array, second_rv_values: np.array) -> None:\n",
    "        row_sums = np.sum(probability_matrix, axis=1)\n",
    "        self._row_sums_cumsum = np.cumsum(row_sums)\n",
    "        self._row_cumsums = np.cumsum(probability_matrix, axis=1) / row_sums.reshape(-1, 1)\n",
    "        \n",
    "        self._first_rv_values = first_rv_values\n",
    "        self._second_rv_values = second_rv_values\n",
    "    \n",
    "    def __next__(self) -> tp.Tuple[float, float]:\n",
    "        first_uniform_rv, second_uniform_rv = np.random.uniform(size=2)\n",
    "        first_rv_value_index = np.searchsorted(self._row_sums_cumsum, first_uniform_rv)\n",
    "        second_rv_value_index = np.searchsorted(self._row_cumsums[first_rv_value_index], second_uniform_rv)\n",
    "\n",
    "        return self._first_rv_values[first_rv_value_index], self._second_rv_values[second_rv_value_index]"
   ]
  },
  {
   "cell_type": "markdown",
   "id": "lesbian-retrieval",
   "metadata": {},
   "source": [
    "# Statistical analysis"
   ]
  },
  {
   "cell_type": "markdown",
   "id": "enormous-mumbai",
   "metadata": {},
   "source": [
    "## Define discrete two-dimensional random variable"
   ]
  },
  {
   "cell_type": "code",
   "execution_count": 7,
   "id": "future-longer",
   "metadata": {},
   "outputs": [],
   "source": [
    "probability_matrix = np.array([[0.1, 0.4, 0.1], [0.1, 0.1, 0.2]])\n",
    "first_rv_values = np.array([1, 2])\n",
    "second_rv_values = np.array([3, 4, 5])"
   ]
  },
  {
   "cell_type": "code",
   "execution_count": 8,
   "id": "registered-liver",
   "metadata": {},
   "outputs": [],
   "source": [
    "discrete_2d_rv_generator = Discrete2DRvGenerator(probability_matrix, first_rv_values, second_rv_values)"
   ]
  },
  {
   "cell_type": "markdown",
   "id": "confirmed-michael",
   "metadata": {},
   "source": [
    "## Empirical probability matrix"
   ]
  },
  {
   "cell_type": "code",
   "execution_count": 9,
   "id": "breeding-favorite",
   "metadata": {},
   "outputs": [],
   "source": [
    "def compute_empirical_probability_matrix(discrete_2d_rv_generator: Discrete2DRvGenerator, first_rv_values: np.array,\n",
    "                                         second_rv_values: np.array, samples_amount: int):\n",
    "    samples = [next(discrete_2d_rv_generator) for _ in range(samples_amount)]\n",
    "    counter = Counter(samples)\n",
    "    \n",
    "    empirical_probability_matrix = np.zeros((first_rv_values.size, second_rv_values.size))\n",
    "    \n",
    "    for (first_rv_value, second_rv_value), сount in counter.items():\n",
    "        first_rv_value_index = np.where(first_rv_values==first_rv_value)\n",
    "        second_rv_value_index = np.where(second_rv_values==second_rv_value)\n",
    "        \n",
    "        empirical_probability_matrix[first_rv_value_index, second_rv_value_index] = сount / samples_amount\n",
    "    return empirical_probability_matrix"
   ]
  },
  {
   "cell_type": "code",
   "execution_count": 10,
   "id": "verified-resort",
   "metadata": {},
   "outputs": [],
   "source": [
    "empirical_probability_matrix = compute_empirical_probability_matrix(discrete_2d_rv_generator, first_rv_values,\n",
    "                                                                    second_rv_values, 10000)"
   ]
  },
  {
   "cell_type": "code",
   "execution_count": 11,
   "id": "minus-gambling",
   "metadata": {},
   "outputs": [],
   "source": [
    "def plot_empirical_and_theoretical_probability_matrices(empirical_probability_matrix: np.array,\n",
    "                                                       theoretical_probability_matrix: np.array):\n",
    "    fig, (ax1, ax2) = plt.subplots(1, 2, figsize=(16, 6))\n",
    "\n",
    "    ax1.set_title('Empirical probability matrix')\n",
    "    sns.heatmap(empirical_probability_matrix, xticklabels=second_rv_values, yticklabels=first_rv_values, ax=ax1)\n",
    "\n",
    "    ax2.set_title('Theoretical probability matrix')\n",
    "    sns.heatmap(theoretical_probability_matrix, xticklabels=second_rv_values, yticklabels=first_rv_values, ax=ax2);"
   ]
  },
  {
   "cell_type": "code",
   "execution_count": 12,
   "id": "peripheral-proxy",
   "metadata": {},
   "outputs": [
    {
     "data": {
      "image/png": "[encoded data removed]",
      "text/plain": [
       "<Figure size 1152x432 with 4 Axes>"
      ]
     },
     "metadata": {},
     "output_type": "display_data"
    }
   ],
   "source": [
    "plot_empirical_and_theoretical_probability_matrices(empirical_probability_matrix, probability_matrix)"
   ]
  },
  {
   "cell_type": "markdown",
   "id": "distinguished-judge",
   "metadata": {},
   "source": [
    "## Two-dimensional random variable components histograms"
   ]
  },
  {
   "cell_type": "code",
   "execution_count": 13,
   "id": "second-dairy",
   "metadata": {},
   "outputs": [],
   "source": [
    "def plot_random_variable_components_histograms(discrete_2d_rv_generator: Discrete2DRvGenerator, first_rv_values: np.array,\n",
    "                                               second_rv_values: np.array, samples_amount: int):\n",
    "    samples = [next(discrete_2d_rv_generator) for _ in range(samples_amount)]\n",
    "    \n",
    "    first_rv_samples = [sample[0] for sample in samples]\n",
    "    first_rv_values, first_rv_counts = np.unique(first_rv_samples, return_counts=True)\n",
    "\n",
    "    second_rv_samples = [sample[1] for sample in samples]\n",
    "    second_rv_values, second_rv_counts = np.unique(second_rv_samples, return_counts=True)\n",
    "\n",
    "    fig, (ax1, ax2) = plt.subplots(1, 2, figsize=(16, 6))\n",
    "    \n",
    "    ax1.set_title('First random value histogram')\n",
    "    ax1.vlines(first_rv_values, 0, first_rv_counts / len(first_rv_samples))\n",
    "    \n",
    "    \n",
    "    ax2.set_title('Second random value histogram')\n",
    "    ax2.vlines(second_rv_values, 0, second_rv_counts / len(second_rv_samples), )"
   ]
  },
  {
   "cell_type": "code",
   "execution_count": 14,
   "id": "employed-valuable",
   "metadata": {},
   "outputs": [
    {
     "data": {
      "image/png": "[encoded data removed]",
      "text/plain": [
       "<Figure size 1152x432 with 2 Axes>"
      ]
     },
     "metadata": {},
     "output_type": "display_data"
    }
   ],
   "source": [
    "plot_random_variable_components_histograms(discrete_2d_rv_generator, first_rv_values, second_rv_values, 10000)"
   ]
  },
  {
   "cell_type": "markdown",
   "id": "selective-permit",
   "metadata": {},
   "source": [
    "## Point estimations"
   ]
  },
  {
   "cell_type": "code",
   "execution_count": 15,
   "id": "manufactured-retailer",
   "metadata": {},
   "outputs": [],
   "source": [
    "def compute_theoretical_expectation(probability_matrix: np.array, first_rv_values: np.array, second_rv_values: np.array):\n",
    "    row_sums = np.sum(probability_matrix, axis=1)\n",
    "    column_sums = np.sum(probability_matrix, axis=0)\n",
    "    return np.sum(row_sums * first_rv_values), np.sum(column_sums * second_rv_values)\n",
    "\n",
    "def compute_expectation_estimation(discrete_2d_rv_generator: Discrete2DRvGenerator, samples_amount: int):\n",
    "    samples = [next(discrete_2d_rv_generator) for _ in range(samples_amount)]\n",
    "    return np.mean([sample[0] for sample in samples]), np.mean([sample[1] for sample in samples])"
   ]
  },
  {
   "cell_type": "code",
   "execution_count": 16,
   "id": "atlantic-isolation",
   "metadata": {},
   "outputs": [
    {
     "data": {
      "text/plain": [
       "(1.4, 4.1000000000000005)"
      ]
     },
     "execution_count": 16,
     "metadata": {},
     "output_type": "execute_result"
    }
   ],
   "source": [
    "compute_theoretical_expectation(probability_matrix, first_rv_values, second_rv_values)"
   ]
  },
  {
   "cell_type": "code",
   "execution_count": 17,
   "id": "modified-garlic",
   "metadata": {},
   "outputs": [
    {
     "data": {
      "text/plain": [
       "(1.4039, 4.0949)"
      ]
     },
     "execution_count": 17,
     "metadata": {},
     "output_type": "execute_result"
    }
   ],
   "source": [
    "compute_expectation_estimation(discrete_2d_rv_generator, 10000)"
   ]
  },
  {
   "cell_type": "code",
   "execution_count": 18,
   "id": "corporate-bunny",
   "metadata": {},
   "outputs": [],
   "source": [
    "def compute_theoretical_variance(probability_matrix: np.array, first_rv_values: np.array, second_rv_values: np.array):\n",
    "    row_sums = np.sum(probability_matrix, axis=1)\n",
    "    column_sums = np.sum(probability_matrix, axis=0)\n",
    "    return np.sum(row_sums * (first_rv_values ** 2)) - np.sum(row_sums * first_rv_values) ** 2, \\\n",
    "        np.sum(column_sums * (second_rv_values ** 2)) - np.sum(column_sums * second_rv_values) ** 2\n",
    "\n",
    "def compute_variance_estimation(discrete_2d_rv_generator: Discrete2DRvGenerator, samples_amount: int):\n",
    "    samples = [next(discrete_2d_rv_generator) for _ in range(samples_amount)]\n",
    "    return np.var([sample[0] for sample in samples], ddof=1), np.var([sample[1] for sample in samples], ddof=1)"
   ]
  },
  {
   "cell_type": "code",
   "execution_count": 19,
   "id": "passive-bidding",
   "metadata": {},
   "outputs": [
    {
     "data": {
      "text/plain": [
       "(0.24000000000000044, 0.4899999999999949)"
      ]
     },
     "execution_count": 19,
     "metadata": {},
     "output_type": "execute_result"
    }
   ],
   "source": [
    "compute_theoretical_variance(probability_matrix, first_rv_values, second_rv_values)"
   ]
  },
  {
   "cell_type": "code",
   "execution_count": 20,
   "id": "formed-honor",
   "metadata": {},
   "outputs": [
    {
     "data": {
      "text/plain": [
       "(0.2401635263526352, 0.496965286528653)"
      ]
     },
     "execution_count": 20,
     "metadata": {},
     "output_type": "execute_result"
    }
   ],
   "source": [
    "compute_variance_estimation(discrete_2d_rv_generator, 10000)"
   ]
  },
  {
   "cell_type": "markdown",
   "id": "suited-ferry",
   "metadata": {},
   "source": [
    "## Interval estimations"
   ]
  },
  {
   "cell_type": "code",
   "execution_count": 21,
   "id": "consecutive-imperial",
   "metadata": {},
   "outputs": [],
   "source": [
    "def compute_confidence_interval_expectation(rv_values: np.array, normal_quantile: float):\n",
    "    rv_mean = np.mean(rv_values)\n",
    "    rv_var = np.var(rv_values, ddof=1)\n",
    "    \n",
    "    return rv_mean - np.sqrt(rv_var / rv_values.size) * normal_quantile, \\\n",
    "        rv_mean + np.sqrt(rv_var / rv_values.size) * normal_quantile\n",
    "\n",
    "def compute_confidence_intervals_expectation(discrete_2d_rv_generator: Discrete2DRvGenerator, \n",
    "                                             samples_amount: int, confidence_level = 0.95):\n",
    "    samples = [next(discrete_2d_rv_generator) for _ in range(samples_amount)]\n",
    "    \n",
    "    first_rv_values = np.array([sample[0] for sample in samples])\n",
    "    second_rv_values = np.array([sample[1] for sample in samples])\n",
    "    normal_quantile = sta.norm.ppf((1 + confidence_level) / 2)\n",
    "    \n",
    "    return compute_confidence_interval_expectation(first_rv_values, normal_quantile), \\\n",
    "        compute_confidence_interval_expectation(second_rv_values, normal_quantile)"
   ]
  },
  {
   "cell_type": "code",
   "execution_count": 22,
   "id": "assured-scope",
   "metadata": {},
   "outputs": [
    {
     "data": {
      "text/plain": [
       "((1.3980522504730073, 1.4041277495269926),\n",
       " (4.092766989765011, 4.101453010234988))"
      ]
     },
     "execution_count": 22,
     "metadata": {},
     "output_type": "execute_result"
    }
   ],
   "source": [
    "compute_confidence_intervals_expectation(discrete_2d_rv_generator, 100000)"
   ]
  },
  {
   "cell_type": "code",
   "execution_count": 23,
   "id": "immediate-wrist",
   "metadata": {},
   "outputs": [],
   "source": [
    "def compute_bootstrap_variance_estimation_of_variance_estimate(rv_values: np.array, b: int):\n",
    "    return np.var([np.var(np.random.choice(rv_values, rv_values.size), ddof=1) for _ in range(b)], ddof=1)\n",
    "\n",
    "def compute_confidence_interval_variance(rv_values: np.array, normal_quantile: float):\n",
    "    rv_var = np.var(rv_values, ddof=1)\n",
    "    rv_var_estimation_var = compute_bootstrap_variance_estimation_of_variance_estimate(rv_values, 1000)\n",
    "    \n",
    "    return rv_var - np.sqrt(rv_var_estimation_var) * normal_quantile, \\\n",
    "        rv_var + np.sqrt(rv_var_estimation_var) * normal_quantile\n",
    "\n",
    "def compute_confidence_intervals_variance(discrete_2d_rv_generator: Discrete2DRvGenerator, \n",
    "                                             samples_amount: int, confidence_level = 0.95):\n",
    "    samples = [next(discrete_2d_rv_generator) for _ in range(samples_amount)]\n",
    "    \n",
    "    first_rv_values = np.array([sample[0] for sample in samples])\n",
    "    second_rv_values = np.array([sample[1] for sample in samples])\n",
    "    normal_quantile = sta.norm.ppf((1 + confidence_level) / 2)\n",
    "    \n",
    "    return compute_confidence_interval_variance(first_rv_values, normal_quantile), \\\n",
    "        compute_confidence_interval_variance(second_rv_values, normal_quantile)"
   ]
  },
  {
   "cell_type": "code",
   "execution_count": 24,
   "id": "opposed-discharge",
   "metadata": {},
   "outputs": [
    {
     "data": {
      "text/plain": [
       "((0.2380773355218724, 0.2418905812698066),\n",
       " (0.4785470495217629, 0.4984977749606853))"
      ]
     },
     "execution_count": 24,
     "metadata": {},
     "output_type": "execute_result"
    }
   ],
   "source": [
    "compute_confidence_intervals_variance(discrete_2d_rv_generator, 10000)"
   ]
  },
  {
   "cell_type": "markdown",
   "id": "continental-document",
   "metadata": {},
   "source": [
    "## Correlation coefficient"
   ]
  },
  {
   "cell_type": "code",
   "execution_count": 25,
   "id": "turkish-policy",
   "metadata": {},
   "outputs": [],
   "source": [
    "def compute_theoretical_correlation_coefficient(probability_matrix: np.array, \n",
    "                                                first_rv_values: np.array, second_rv_values: np.array):\n",
    "    first_rv_expectation, second_expectation = compute_theoretical_expectation(probability_matrix, first_rv_values, second_rv_values)\n",
    "    first_rv_variance, second_rv_variance = compute_theoretical_variance(probability_matrix, first_rv_values, second_rv_values)\n",
    "    \n",
    "    covariance_coefficient = np.sum(probability_matrix * first_rv_values.reshape(-1, 1) * second_rv_values.reshape(1, -1)) - first_rv_expectation * second_expectation\n",
    "    return covariance_coefficient / np.sqrt(first_rv_variance * second_rv_variance)\n",
    "\n",
    "def compute_correlation_coefficient_estimation(discrete_2d_rv_generator: Discrete2DRvGenerator, samples_amount: int, ):\n",
    "    samples = np.array([next(discrete_2d_rv_generator) for _ in range(samples_amount)])\n",
    "    \n",
    "    first_rv_values = samples[:, 0] \n",
    "    first_rv_var = np.var(first_rv_values, ddof=1)\n",
    "    second_rv_values = samples[:, 1]\n",
    "    second_rv_var = np.var(second_rv_values, ddof=1)\n",
    "\n",
    "    covariance_coefficient = (first_rv_values - np.mean(first_rv_values)) @ (second_rv_values - np.mean(second_rv_values)) / (samples_amount - 1)\n",
    "    return covariance_coefficient / np.sqrt(first_rv_var * second_rv_var)"
   ]
  },
  {
   "cell_type": "code",
   "execution_count": 26,
   "id": "handmade-dimension",
   "metadata": {},
   "outputs": [
    {
     "data": {
      "text/plain": [
       "0.1749635530559435"
      ]
     },
     "execution_count": 26,
     "metadata": {},
     "output_type": "execute_result"
    }
   ],
   "source": [
    "compute_theoretical_correlation_coefficient(probability_matrix, first_rv_values, second_rv_values)"
   ]
  },
  {
   "cell_type": "code",
   "execution_count": 27,
   "id": "apart-reading",
   "metadata": {},
   "outputs": [
    {
     "data": {
      "text/plain": [
       "0.15803717423566682"
      ]
     },
     "execution_count": 27,
     "metadata": {},
     "output_type": "execute_result"
    }
   ],
   "source": [
    "compute_correlation_coefficient_estimation(discrete_2d_rv_generator, 10000)"
   ]
  },
  {
   "cell_type": "markdown",
   "id": "wireless-garden",
   "metadata": {},
   "source": [
    "## Statistical tests"
   ]
  },
  {
   "cell_type": "code",
   "execution_count": 32,
   "id": "attempted-effectiveness",
   "metadata": {},
   "outputs": [],
   "source": [
    "def compute_chi_square_statistics(theoretical_probability_matrix: np.array, discrete_2d_rv_generator: Discrete2DRvGenerator,\n",
    "                                  first_rv_values: np.array, second_rv_values: np.array, samples_amount: int):\n",
    "    emperical_probability_matrix = compute_empirical_probability_matrix(discrete_2d_rv_generator, first_rv_values,\n",
    "                                                                        second_rv_values, samples_amount)\n",
    "    \n",
    "    return samples_amount * np.sum((emperical_probability_matrix - theoretical_probability_matrix) ** 2 / theoretical_probability_matrix)\n",
    "    \n",
    "    \n",
    "def chi_square_test(theoretical_probability_matrix: np.array, discrete_2d_rv_generator: Discrete2DRvGenerator,\n",
    "                    first_rv_values: np.array, second_rv_values: np.array, samples_amount: int, confidence_level = 0.05):\n",
    "    chi_square_statistics = compute_chi_square_statistics(theoretical_probability_matrix, discrete_2d_rv_generator,\n",
    "                                                          first_rv_values, second_rv_values, samples_amount)\n",
    "    \n",
    "    p_value = 1 - sta.chi2.cdf(chi_square_statistics, theoretical_probability_matrix.size - 1)\n",
    "    return p_value, p_value > confidence_level"
   ]
  },
  {
   "cell_type": "code",
   "execution_count": null,
   "id": "controversial-sacramento",
   "metadata": {},
   "outputs": [
    {
     "data": {
      "text/plain": [
       "(0.8770464235218929, True)"
      ]
     },
     "execution_count": 47,
     "metadata": {},
     "output_type": "execute_result"
    }
   ],
   "source": [
    "chi_square_test(probability_matrix, discrete_2d_rv_generator, first_rv_values, second_rv_values, 1000)"
   ]
  }
 ],
 "metadata": {
  "kernelspec": {
   "display_name": "Python 3 (ipykernel)",
   "language": "python",
   "name": "python3"
  },
  "language_info": {
   "codemirror_mode": {
    "name": "ipython",
    "version": 3
   },
   "file_extension": ".py",
   "mimetype": "text/x-python",
   "name": "python",
   "nbconvert_exporter": "python",
   "pygments_lexer": "ipython3",
   "version": "3.8.10"
  }
 },
 "nbformat": 4,
 "nbformat_minor": 5
}

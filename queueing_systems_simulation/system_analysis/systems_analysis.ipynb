{
 "cells": [
  {
   "cell_type": "markdown",
   "metadata": {},
   "source": [
    "## Importing"
   ]
  },
  {
   "cell_type": "code",
   "execution_count": 112,
   "metadata": {},
   "outputs": [],
   "source": [
    "import os\n",
    "import sys\n",
    "\n",
    "module_path = os.path.abspath(os.path.join('..'))\n",
    "if module_path not in sys.path:\n",
    "        sys.path.append(module_path)"
   ]
  },
  {
   "cell_type": "code",
   "execution_count": 113,
   "metadata": {},
   "outputs": [],
   "source": [
    "import pandas as pd \n",
    "import numpy as np\n",
    "import matplotlib.pyplot as plt\n",
    "import seaborn as sns\n",
    "\n",
    "from system_simulation.common.simulation_engine import SimulationEngine\n",
    "from system_simulation.event_handlers.multichannel_fixed_queue_with_reneging_event_handler \\\n",
    "            import MultichannelFixedQueueWithRenegingEventHandler\n",
    "from system_simulation.event_handlers.multichannel_with_warming_up_event_handler \\\n",
    "            import MultichannelWithWarmingUpEventHandler\n",
    "\n",
    "from common import count_state_probabilities, compute_theoretical_probabilities"
   ]
  },
  {
   "cell_type": "code",
   "execution_count": 114,
   "metadata": {},
   "outputs": [],
   "source": [
    "sns.set_style('darkgrid') \n",
    "plt.rc('axes', titlesize=18)    \n",
    "plt.rc('axes', labelsize=14)    \n",
    "plt.rc('xtick', labelsize=13)   \n",
    "plt.rc('ytick', labelsize=13)    \n",
    "plt.rc('legend', fontsize=13)    \n",
    "plt.rc('font', size=13)         "
   ]
  },
  {
   "cell_type": "code",
   "execution_count": 115,
   "metadata": {},
   "outputs": [],
   "source": [
    "def plot_histograms(empirical_probabilities: np.array, theoretical_probabilities: np.array):\n",
    "    fig, (ax1, ax2) = plt.subplots(1, 2, figsize=(15, 8))\n",
    "    ax1.set_title('Sumulation probabilities')\n",
    "    ax1.vlines(range(empirical_probabilities.size), 0, empirical_probabilities)\n",
    "    \n",
    "    ax2.set_title('Theoretical probabilities')\n",
    "    ax2.vlines(range(empirical_probabilities.size), 0, empirical_probabilities)\n",
    "    \n",
    "\n",
    "def compute_refuse_probability(probabilities):\n",
    "    return probabilities[-1]\n",
    "\n",
    "def compute_relative_throughput(probabilities):\n",
    "    return 1 - compute_refuse_probability(probabilities)\n",
    "\n",
    "def compute_absolute_throughput(probabilities, arrival_rate):\n",
    "    return arrival_rate * compute_relative_throughput(probabilities)\n",
    "\n",
    "def compute_mean_customers_in_system_count(probabilities, channels_count):\n",
    "    before_queue_sum = np.sum(np.arange(channels_count + 1) * probabilities[:channels_count + 1])\n",
    "    after_queue_sum = np.sum(channels_count * probabilities[channels_count + 1:]) \n",
    "    return  before_queue_sum + after_queue_sum\n",
    "\n",
    "def compute_mean_customers_in_queue_count(probabilities, channels_count):\n",
    "    return np.sum(np.arange(1, probabilities.size - channels_count) * probabilities[channels_count + 1:])\n",
    "\n",
    "def compute_mean_customer_time_in_system(probabilities, arrival_rate, service_rate, reneging_rate):\n",
    "    return compute_absolute_throughput(probabilities, arrival_rate) / service_rate + 1.0 / reneging_rate\n",
    "\n",
    "def compute_mean_busy_channels_count(probabilities, channels_count):\n",
    "    return np.sum(np.arange(channels_count + 1) * probabilities[:channels_count + 1])"
   ]
  },
  {
   "cell_type": "markdown",
   "metadata": {},
   "source": [
    "## Multichannel fixed queue with reneging system analysis"
   ]
  },
  {
   "cell_type": "code",
   "execution_count": 116,
   "metadata": {},
   "outputs": [],
   "source": [
    "simulation_start_time = 0\n",
    "simulation_finish_time = 100000\n",
    "\n",
    "channels_count = 10\n",
    "queue_capacity = 2\n",
    "\n",
    "arrival_rate = 2\n",
    "service_rate = 0.1\n",
    "reneging_rate = 0.1\n",
    "\n",
    "system_events_df_filename = 'multichannel_fixed_queue_with_reneging_system_simulation.csv'"
   ]
  },
  {
   "cell_type": "code",
   "execution_count": 117,
   "metadata": {},
   "outputs": [],
   "source": [
    "simulation_engine = SimulationEngine(simulation_start_time, simulation_finish_time)\n",
    "event_handler = MultichannelFixedQueueWithRenegingEventHandler(channels_count, \n",
    "                                                               queue_capacity, \n",
    "                                                               arrival_rate, service_rate, reneging_rate, \n",
    "                                                               system_events_df_filename)\n",
    "simulation_engine.register_event_handler(event_handler)\n",
    "simulation_engine.start()"
   ]
  },
  {
   "cell_type": "code",
   "execution_count": 118,
   "metadata": {},
   "outputs": [],
   "source": [
    "system_events_df = pd.read_csv(system_events_df_filename, index_col=0)\n",
    "system_events_df = system_events_df[system_events_df['arrival_event_time'] > 10000]\n",
    "departure_times = system_events_df['reneging_event_time'].fillna(value=system_events_df['service_event_time']).dropna()\n",
    "arrival_times = system_events_df['arrival_event_time'][departure_times.index].values.reshape((-1, 1))\n",
    "departure_times = departure_times.values.reshape((-1, 1))\n",
    "\n",
    "customers_arrival_and_departure = np.hstack((arrival_times, departure_times))\n",
    "states_count = channels_count + queue_capacity + 1\n",
    "system_state_probabilities = count_state_probabilities(customers_arrival_and_departure, states_count,\n",
    "                                                       10000, simulation_finish_time)"
   ]
  },
  {
   "cell_type": "code",
   "execution_count": 119,
   "metadata": {},
   "outputs": [],
   "source": [
    "arrival_rates = np.array([arrival_rate] * (states_count - 1))\n",
    "departure_rates = np.hstack((service_rate * np.arange(1, channels_count + 1),\n",
    "                             service_rate * channels_count + reneging_rate * np.arange(1, queue_capacity + 1)))\n",
    "theoretical_state_probabilities = compute_theoretical_probabilities(arrival_rates, departure_rates)"
   ]
  },
  {
   "cell_type": "code",
   "execution_count": 120,
   "metadata": {},
   "outputs": [
    {
     "data": {
      "image/png": "[encoded data removed]",
      "text/plain": [
       "<Figure size 1080x576 with 2 Axes>"
      ]
     },
     "metadata": {},
     "output_type": "display_data"
    }
   ],
   "source": [
    "plot_histograms(system_state_probabilities, theoretical_state_probabilities)"
   ]
  },
  {
   "cell_type": "markdown",
   "metadata": {
    "tags": []
   },
   "source": [
    "### Absolute throughput"
   ]
  },
  {
   "cell_type": "code",
   "execution_count": 121,
   "metadata": {},
   "outputs": [
    {
     "data": {
      "text/plain": [
       "(1.0964229213706083, 1.0972779487874136)"
      ]
     },
     "execution_count": 121,
     "metadata": {},
     "output_type": "execute_result"
    }
   ],
   "source": [
    "theoretical_absolute_throughput = compute_absolute_throughput(theoretical_state_probabilities, arrival_rate)\n",
    "empirical_absolute_throughput = compute_absolute_throughput(system_state_probabilities, arrival_rate)\n",
    "theoretical_absolute_throughput, empirical_absolute_throughput"
   ]
  },
  {
   "cell_type": "markdown",
   "metadata": {},
   "source": [
    "### Refuse probability "
   ]
  },
  {
   "cell_type": "code",
   "execution_count": 122,
   "metadata": {},
   "outputs": [
    {
     "data": {
      "text/plain": [
       "(0.4517885393146958, 0.4513610256062932)"
      ]
     },
     "execution_count": 122,
     "metadata": {},
     "output_type": "execute_result"
    }
   ],
   "source": [
    "theoretical_refuse_probability = compute_refuse_probability(theoretical_state_probabilities)\n",
    "empirical_refuse_probability = compute_refuse_probability(system_state_probabilities)\n",
    "theoretical_refuse_probability, empirical_refuse_probability"
   ]
  },
  {
   "cell_type": "markdown",
   "metadata": {},
   "source": [
    "### Mean customers count in system"
   ]
  },
  {
   "cell_type": "code",
   "execution_count": 123,
   "metadata": {},
   "outputs": [
    {
     "data": {
      "text/plain": [
       "(9.789579011487877, 9.78992110521695)"
      ]
     },
     "execution_count": 123,
     "metadata": {},
     "output_type": "execute_result"
    }
   ],
   "source": [
    "theoretical_mean_customers_in_system_count = compute_mean_customers_in_system_count(theoretical_state_probabilities, channels_count)\n",
    "empirical_mean_customers_in_system_count = compute_mean_customers_in_system_count(system_state_probabilities, channels_count)\n",
    "theoretical_mean_customers_in_system_count, empirical_mean_customers_in_system_count"
   ]
  },
  {
   "cell_type": "markdown",
   "metadata": {},
   "source": [
    "### Mean customers count in queue"
   ]
  },
  {
   "cell_type": "code",
   "execution_count": 124,
   "metadata": {},
   "outputs": [
    {
     "data": {
      "text/plain": [
       "(1.174650202218209, 1.1721617781501046)"
      ]
     },
     "execution_count": 124,
     "metadata": {},
     "output_type": "execute_result"
    }
   ],
   "source": [
    "theoretical_mean_customers_in_queue_count = compute_mean_customers_in_queue_count(theoretical_state_probabilities, channels_count)\n",
    "empirical_mean_customers_in_system_count = compute_mean_customers_in_queue_count(system_state_probabilities, channels_count)\n",
    "theoretical_mean_customers_in_queue_count, empirical_mean_customers_in_system_count"
   ]
  },
  {
   "cell_type": "markdown",
   "metadata": {},
   "source": [
    "### Mean customer time in system"
   ]
  },
  {
   "cell_type": "code",
   "execution_count": 125,
   "metadata": {},
   "outputs": [
    {
     "data": {
      "text/plain": [
       "(20.964229213706083, 20.972779487874135)"
      ]
     },
     "execution_count": 125,
     "metadata": {},
     "output_type": "execute_result"
    }
   ],
   "source": [
    "theoretical_mean_customer_time_in_system = compute_mean_customer_time_in_system(theoretical_state_probabilities, arrival_rate, service_rate, reneging_rate)\n",
    "empirical_mean_customer_time_in_system = compute_mean_customer_time_in_system(system_state_probabilities, arrival_rate, service_rate, reneging_rate)\n",
    "theoretical_mean_customer_time_in_system, empirical_mean_customer_time_in_system"
   ]
  },
  {
   "cell_type": "markdown",
   "metadata": {
    "tags": []
   },
   "source": [
    "### Mean busy channels count"
   ]
  },
  {
   "cell_type": "code",
   "execution_count": 126,
   "metadata": {},
   "outputs": [
    {
     "data": {
      "text/plain": [
       "(2.560962382452744, 2.5819135797788344)"
      ]
     },
     "execution_count": 126,
     "metadata": {},
     "output_type": "execute_result"
    }
   ],
   "source": [
    "theoretical_mean_channels_count = compute_mean_busy_channels_count(theoretical_state_probabilities, channels_count)\n",
    "empirical_mean_channels_count = compute_mean_busy_channels_count(system_state_probabilities, channels_count)\n",
    "theoretical_mean_channels_count, empirical_mean_channels_count"
   ]
  },
  {
   "cell_type": "markdown",
   "metadata": {},
   "source": [
    "## Multichannel with warming up system analysis"
   ]
  },
  {
   "cell_type": "code",
   "execution_count": 136,
   "metadata": {},
   "outputs": [],
   "source": [
    "simulation_start_time = 0\n",
    "simulation_finish_time = 100000\n",
    "\n",
    "channels_count = 10\n",
    "\n",
    "arrival_rate = 2\n",
    "service_rate = 0.1\n",
    "warming_up_rate = 1\n",
    "\n",
    "system_events_df_filename = 'multichannel_with_warming_up_system_simulation.csv'"
   ]
  },
  {
   "cell_type": "code",
   "execution_count": 137,
   "metadata": {},
   "outputs": [],
   "source": [
    "simulation_engine = SimulationEngine(simulation_start_time, simulation_finish_time)\n",
    "event_handler = MultichannelWithWarmingUpEventHandler(channels_count, arrival_rate, service_rate, warming_up_rate, \n",
    "                                                      system_events_df_filename)\n",
    "simulation_engine.register_event_handler(event_handler)\n",
    "simulation_engine.start()"
   ]
  },
  {
   "cell_type": "code",
   "execution_count": 138,
   "metadata": {},
   "outputs": [],
   "source": [
    "system_events_df = pd.read_csv(system_events_df_filename, index_col=0)\n",
    "system_events_df = system_events_df[system_events_df['arrival_event_time'] > 10000]\n",
    "departure_times = system_events_df['service_event_time'].dropna()\n",
    "arrival_times = system_events_df['arrival_event_time'][departure_times.index].values.reshape((-1, 1))\n",
    "departure_times = departure_times.values.reshape((-1, 1))\n",
    "states_count = channels_count + 1\n",
    "customers_arrival_and_departure = np.hstack((arrival_times, departure_times))\n",
    "system_state_probabilities = count_state_probabilities(customers_arrival_and_departure, states_count,\n",
    "                                                       10000, simulation_finish_time)"
   ]
  },
  {
   "cell_type": "code",
   "execution_count": 139,
   "metadata": {},
   "outputs": [],
   "source": [
    "arrival_rates = np.array([arrival_rate] * channels_count)\n",
    "departure_rates = (warming_up_rate * service_rate / (warming_up_rate + service_rate)) * np.arange(1, channels_count + 1)\n",
    "theoretical_state_probabilities = compute_theoretical_probabilities(arrival_rates, departure_rates)"
   ]
  },
  {
   "cell_type": "code",
   "execution_count": 140,
   "metadata": {},
   "outputs": [
    {
     "data": {
      "image/png": "[encoded data removed]",
      "text/plain": [
       "<Figure size 1080x576 with 2 Axes>"
      ]
     },
     "metadata": {},
     "output_type": "display_data"
    }
   ],
   "source": [
    "plot_histograms(system_state_probabilities, theoretical_state_probabilities)"
   ]
  },
  {
   "cell_type": "markdown",
   "metadata": {},
   "source": [
    "### Refuse probability "
   ]
  },
  {
   "cell_type": "code",
   "execution_count": 141,
   "metadata": {},
   "outputs": [
    {
     "data": {
      "text/plain": [
       "(0.575669090346648, 0.5777843221023539)"
      ]
     },
     "execution_count": 141,
     "metadata": {},
     "output_type": "execute_result"
    }
   ],
   "source": [
    "theoretical_refuse_probability = compute_refuse_probability(theoretical_state_probabilities)\n",
    "empirical_refuse_probability = compute_refuse_probability(system_state_probabilities)\n",
    "theoretical_refuse_probability, empirical_refuse_probability"
   ]
  },
  {
   "cell_type": "markdown",
   "metadata": {},
   "source": [
    "### Relative throughput"
   ]
  },
  {
   "cell_type": "code",
   "execution_count": 142,
   "metadata": {},
   "outputs": [
    {
     "data": {
      "text/plain": [
       "(0.42433090965335196, 0.42221567789764614)"
      ]
     },
     "execution_count": 142,
     "metadata": {},
     "output_type": "execute_result"
    }
   ],
   "source": [
    "theoretical_relative_probability = compute_relative_throughput(theoretical_state_probabilities)\n",
    "empirical_relative_probability = compute_relative_throughput(system_state_probabilities)\n",
    "theoretical_relative_probability, empirical_relative_probability"
   ]
  },
  {
   "cell_type": "markdown",
   "metadata": {
    "tags": []
   },
   "source": [
    "### Absolute throughput"
   ]
  },
  {
   "cell_type": "code",
   "execution_count": 143,
   "metadata": {},
   "outputs": [
    {
     "data": {
      "text/plain": [
       "(0.8486618193067039, 0.8444313557952923)"
      ]
     },
     "execution_count": 143,
     "metadata": {},
     "output_type": "execute_result"
    }
   ],
   "source": [
    "theoretical_absolute_throughput = compute_absolute_throughput(theoretical_state_probabilities, arrival_rate)\n",
    "empirical_absolute_throughput = compute_absolute_throughput(system_state_probabilities, arrival_rate)\n",
    "theoretical_absolute_throughput, empirical_absolute_throughput"
   ]
  },
  {
   "cell_type": "markdown",
   "metadata": {
    "tags": []
   },
   "source": [
    "### Mean busy channels count"
   ]
  },
  {
   "cell_type": "code",
   "execution_count": 144,
   "metadata": {},
   "outputs": [
    {
     "data": {
      "text/plain": [
       "(9.335280012373742, 9.336551301423187)"
      ]
     },
     "execution_count": 144,
     "metadata": {},
     "output_type": "execute_result"
    }
   ],
   "source": [
    "theoretical_mean_channels_count = compute_mean_busy_channels_count(theoretical_state_probabilities, channels_count)\n",
    "empirical_mean_channels_count = compute_mean_busy_channels_count(system_state_probabilities, channels_count)\n",
    "theoretical_mean_channels_count, empirical_mean_channels_count"
   ]
  }
 ],
 "metadata": {
  "kernelspec": {
   "display_name": "Python 3 (ipykernel)",
   "language": "python",
   "name": "python3"
  },
  "language_info": {
   "codemirror_mode": {
    "name": "ipython",
    "version": 3
   },
   "file_extension": ".py",
   "mimetype": "text/x-python",
   "name": "python",
   "nbconvert_exporter": "python",
   "pygments_lexer": "ipython3",
   "version": "3.8.10"
  }
 },
 "nbformat": 4,
 "nbformat_minor": 4
}
